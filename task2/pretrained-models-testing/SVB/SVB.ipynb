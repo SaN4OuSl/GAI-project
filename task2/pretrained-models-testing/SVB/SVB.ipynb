{
 "cells": [
  {
   "cell_type": "code",
   "id": "initial_id",
   "metadata": {
    "collapsed": true,
    "ExecuteTime": {
     "end_time": "2025-04-11T20:13:28.310811Z",
     "start_time": "2025-04-11T20:12:34.403995Z"
    }
   },
   "source": [
    "from diffusers import StableDiffusionPipeline, StableVideoDiffusionPipeline\n",
    "import torch\n",
    "from diffusers.utils import export_to_gif\n",
    "import os\n",
    "import psutil\n",
    "\n",
    "\n",
    "prompt = \"Donald Trump stands at the podium and talks a lot. The camera remains stationary, focused on the man. The lighting is warm and natural. The scene appears to be real-life footage.\"\n",
    "\n",
    "text2img_model = StableDiffusionPipeline.from_pretrained(\"emilianJR/epiCRealism\", torch_dtype=torch.float16)\n",
    "text2img_model = text2img_model.to(\"cuda\")\n",
    "\n",
    "generated_image = text2img_model(prompt, num_inference_steps=500, width=768, height=480).images[0]\n",
    "\n",
    "print(\"Generating image from text...\")\n",
    "\n",
    "generated_image.show()\n",
    "\n",
    "generated_image.save(\"trump.jpg\")\n"
   ],
   "outputs": [
    {
     "name": "stderr",
     "output_type": "stream",
     "text": [
      "C:\\Users\\lapte\\miniconda3\\envs\\torch\\lib\\site-packages\\tqdm\\auto.py:21: TqdmWarning: IProgress not found. Please update jupyter and ipywidgets. See https://ipywidgets.readthedocs.io/en/stable/user_install.html\n",
      "  from .autonotebook import tqdm as notebook_tqdm\n",
      "Loading pipeline components...:  29%|██▊       | 2/7 [00:05<00:11,  2.30s/it]C:\\Users\\lapte\\miniconda3\\envs\\torch\\lib\\site-packages\\transformers\\models\\clip\\feature_extraction_clip.py:28: FutureWarning: The class CLIPFeatureExtractor is deprecated and will be removed in version 5 of Transformers. Please use CLIPImageProcessor instead.\n",
      "  warnings.warn(\n",
      "Loading pipeline components...: 100%|██████████| 7/7 [00:08<00:00,  1.18s/it]\n",
      "100%|██████████| 500/500 [00:36<00:00, 13.81it/s]\n"
     ]
    },
    {
     "name": "stdout",
     "output_type": "stream",
     "text": [
      "Generating image from text...\n"
     ]
    }
   ],
   "execution_count": 1
  },
  {
   "metadata": {
    "ExecuteTime": {
     "end_time": "2025-04-11T20:15:21.968837Z",
     "start_time": "2025-04-11T20:13:28.319320Z"
    }
   },
   "cell_type": "code",
   "source": [
    "print(\"Generating video from the image...\")\n",
    "img2vid_model = StableVideoDiffusionPipeline.from_pretrained(\"stabilityai/stable-video-diffusion-img2vid-xt\", torch_dtype=torch.float16)\n",
    "img2vid_model = img2vid_model.to(\"cuda\")\n",
    "\n",
    "video = img2vid_model(image=generated_image, width=768, height=480)\n",
    "\n",
    "export_to_gif(video.frames[0], \"trump.gif\", fps=7)"
   ],
   "id": "f0fde0177a42ff23",
   "outputs": [
    {
     "name": "stdout",
     "output_type": "stream",
     "text": [
      "Generating video from the image...\n"
     ]
    },
    {
     "name": "stderr",
     "output_type": "stream",
     "text": [
      "Loading pipeline components...: 100%|██████████| 5/5 [00:10<00:00,  2.12s/it]\n",
      "100%|██████████| 25/25 [00:50<00:00,  2.03s/it]\n"
     ]
    },
    {
     "data": {
      "text/plain": [
       "'trump.gif'"
      ]
     },
     "execution_count": 2,
     "metadata": {},
     "output_type": "execute_result"
    }
   ],
   "execution_count": 2
  },
  {
   "metadata": {
    "ExecuteTime": {
     "end_time": "2025-04-11T20:15:58.897867Z",
     "start_time": "2025-04-11T20:15:22.187611Z"
    }
   },
   "cell_type": "code",
   "source": [
    "prompt = \"A young woman walks through a lively street market, surrounded by the hum of conversation and the clatter of vendors’ stalls. The camera follows her from a handheld medium shot, capturing the gentle sway of her movement as she weaves between crowds. Sunlight filters through vibrant umbrellas and patchwork tents above, casting shifting patterns of light and shadow on the pavement.\"\n",
    "\n",
    "print(\"Generating image from text...\")\n",
    "generated_image = text2img_model(prompt, num_inference_steps=500, width=768, height=480).images[0]\n",
    "\n",
    "generated_image.show()\n",
    "\n",
    "generated_image.save(\"market.jpg\")"
   ],
   "id": "a0ee6081ddb28535",
   "outputs": [
    {
     "name": "stdout",
     "output_type": "stream",
     "text": [
      "Generating image from text...\n"
     ]
    },
    {
     "name": "stderr",
     "output_type": "stream",
     "text": [
      "100%|██████████| 500/500 [00:36<00:00, 13.78it/s]\n"
     ]
    }
   ],
   "execution_count": 3
  },
  {
   "metadata": {
    "ExecuteTime": {
     "end_time": "2025-04-11T20:18:26.724489Z",
     "start_time": "2025-04-11T20:15:58.901863Z"
    }
   },
   "cell_type": "code",
   "source": [
    "print(\"Generating video from the image...\")\n",
    "video = img2vid_model(image=generated_image, width=768, height=480)\n",
    "\n",
    "export_to_gif(video.frames[0], \"market.gif\")"
   ],
   "id": "74df38e73d9d7104",
   "outputs": [
    {
     "name": "stdout",
     "output_type": "stream",
     "text": [
      "Generating video from the image...\n"
     ]
    },
    {
     "name": "stderr",
     "output_type": "stream",
     "text": [
      "100%|██████████| 25/25 [00:50<00:00,  2.04s/it]\n"
     ]
    },
    {
     "data": {
      "text/plain": [
       "'market.gif'"
      ]
     },
     "execution_count": 4,
     "metadata": {},
     "output_type": "execute_result"
    }
   ],
   "execution_count": 4
  },
  {
   "metadata": {
    "ExecuteTime": {
     "end_time": "2025-04-11T20:19:05.189877Z",
     "start_time": "2025-04-11T20:18:26.757017Z"
    }
   },
   "cell_type": "code",
   "source": [
    "prompt = \"A clear, turquoise river flows through a rocky canyon, cascading over a small waterfall and forming a pool of water at the bottom.The river is the main focus of the scene, with its clear water reflecting the surrounding trees and rocks. The canyon walls are steep and rocky, with some vegetation growing on them. The trees are mostly pine trees, with their green needles.\"\n",
    "\n",
    "print(\"Generating image from text...\")\n",
    "generated_image = text2img_model(prompt, num_inference_steps=500, width=768, height=480).images[0]\n",
    "\n",
    "generated_image.show()\n",
    "\n",
    "generated_image.save(\"landscape.jpg\")"
   ],
   "id": "6089acfb7bd1e454",
   "outputs": [
    {
     "name": "stderr",
     "output_type": "stream",
     "text": [
      "Token indices sequence length is longer than the specified maximum sequence length for this model (78 > 77). Running this sequence through the model will result in indexing errors\n",
      "The following part of your input was truncated because CLIP can only handle sequences up to 77 tokens: ['.']\n"
     ]
    },
    {
     "name": "stdout",
     "output_type": "stream",
     "text": [
      "Generating image from text...\n"
     ]
    },
    {
     "name": "stderr",
     "output_type": "stream",
     "text": [
      "100%|██████████| 500/500 [00:38<00:00, 13.11it/s]\n"
     ]
    }
   ],
   "execution_count": 5
  },
  {
   "metadata": {
    "jupyter": {
     "is_executing": true
    },
    "ExecuteTime": {
     "end_time": "2025-04-11T20:22:29.186098300Z",
     "start_time": "2025-04-11T20:19:05.193387Z"
    }
   },
   "cell_type": "code",
   "source": [
    "print(\"Generating video from the image...\")\n",
    "video = img2vid_model(image=generated_image, width=768, height=480)\n",
    "\n",
    "export_to_gif(video.frames[0], \"landscape.gif\")\n",
    "\n",
    "current_pid = os.getpid()\n",
    "for proc in psutil.process_iter(attrs=['pid', 'name']):\n",
    "    try:\n",
    "        if \"python\" in proc.info['name'].lower() and proc.info['pid'] != current_pid:\n",
    "            os.kill(proc.info['pid'], 9)\n",
    "    except (psutil.NoSuchProcess, psutil.AccessDenied):\n",
    "        continue"
   ],
   "id": "d1593d3f327d1d10",
   "outputs": [
    {
     "name": "stdout",
     "output_type": "stream",
     "text": [
      "Generating video from the image...\n"
     ]
    },
    {
     "name": "stderr",
     "output_type": "stream",
     "text": [
      "100%|██████████| 25/25 [01:25<00:00,  3.42s/it]\n"
     ]
    }
   ],
   "execution_count": null
  }
 ],
 "metadata": {
  "kernelspec": {
   "display_name": "Python 3",
   "language": "python",
   "name": "python3"
  },
  "language_info": {
   "codemirror_mode": {
    "name": "ipython",
    "version": 2
   },
   "file_extension": ".py",
   "mimetype": "text/x-python",
   "name": "python",
   "nbconvert_exporter": "python",
   "pygments_lexer": "ipython2",
   "version": "2.7.6"
  }
 },
 "nbformat": 4,
 "nbformat_minor": 5
}
