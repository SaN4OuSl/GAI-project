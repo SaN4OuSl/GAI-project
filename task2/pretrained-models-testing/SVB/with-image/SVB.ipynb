{
 "cells": [
  {
   "cell_type": "code",
   "id": "initial_id",
   "metadata": {
    "collapsed": true,
    "jupyter": {
     "is_executing": true
    },
    "ExecuteTime": {
     "end_time": "2025-04-11T20:26:42.504360300Z",
     "start_time": "2025-04-11T20:24:53.335669Z"
    }
   },
   "source": [
    "from diffusers import StableDiffusionPipeline, StableVideoDiffusionPipeline\n",
    "import torch\n",
    "from diffusers.utils import export_to_gif, load_image\n",
    "import os\n",
    "import psutil\n",
    "\n",
    "print(\"Generating video from the image...\")\n",
    "img2vid_model = StableVideoDiffusionPipeline.from_pretrained(\"stabilityai/stable-video-diffusion-img2vid-xt\", torch_dtype=torch.float16)\n",
    "img2vid_model = img2vid_model.to(\"cuda\")\n",
    "\n",
    "image = load_image(\"img.png\")\n",
    "video = img2vid_model(image=image, width=768, height=480)\n",
    "\n",
    "export_to_gif(video.frames[0], \"trump-dancing.gif\")\n",
    "\n",
    "current_pid = os.getpid()\n",
    "for proc in psutil.process_iter(attrs=['pid', 'name']):\n",
    "    try:\n",
    "        if \"python\" in proc.info['name'].lower() and proc.info['pid'] != current_pid:\n",
    "            os.kill(proc.info['pid'], 9)\n",
    "    except (psutil.NoSuchProcess, psutil.AccessDenied):\n",
    "        continue"
   ],
   "outputs": [
    {
     "name": "stderr",
     "output_type": "stream",
     "text": [
      "C:\\Users\\lapte\\miniconda3\\envs\\torch\\lib\\site-packages\\tqdm\\auto.py:21: TqdmWarning: IProgress not found. Please update jupyter and ipywidgets. See https://ipywidgets.readthedocs.io/en/stable/user_install.html\n",
      "  from .autonotebook import tqdm as notebook_tqdm\n"
     ]
    },
    {
     "name": "stdout",
     "output_type": "stream",
     "text": [
      "Generating video from the image...\n"
     ]
    },
    {
     "name": "stderr",
     "output_type": "stream",
     "text": [
      "Loading pipeline components...: 100%|██████████| 5/5 [00:12<00:00,  2.55s/it]\n",
      "100%|██████████| 25/25 [00:50<00:00,  2.03s/it]\n"
     ]
    }
   ],
   "execution_count": null
  }
 ],
 "metadata": {
  "kernelspec": {
   "display_name": "Python 3",
   "language": "python",
   "name": "python3"
  },
  "language_info": {
   "codemirror_mode": {
    "name": "ipython",
    "version": 2
   },
   "file_extension": ".py",
   "mimetype": "text/x-python",
   "name": "python",
   "nbconvert_exporter": "python",
   "pygments_lexer": "ipython2",
   "version": "2.7.6"
  }
 },
 "nbformat": 4,
 "nbformat_minor": 5
}
