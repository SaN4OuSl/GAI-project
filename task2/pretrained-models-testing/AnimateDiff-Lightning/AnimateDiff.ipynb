{
 "cells": [
  {
   "cell_type": "code",
   "id": "initial_id",
   "metadata": {
    "collapsed": true,
    "ExecuteTime": {
     "end_time": "2025-04-11T18:31:35.977812Z",
     "start_time": "2025-04-11T18:30:37.979068Z"
    }
   },
   "source": [
    "import torch\n",
    "import os\n",
    "import psutil\n",
    "from diffusers import AnimateDiffPipeline, MotionAdapter, EulerDiscreteScheduler\n",
    "from diffusers.utils import export_to_gif\n",
    "from huggingface_hub import hf_hub_download\n",
    "from safetensors.torch import load_file\n",
    "\n",
    "device = \"cuda\"\n",
    "dtype = torch.float16\n",
    "\n",
    "prompt = \"Donald Trump stands at the podium and talks a lot.The camera remains stationary, focused on the man. The lighting is warm and natural. The scene appears to be real-life footage.\"\n",
    "\n",
    "\n",
    "step = 8\n",
    "repo = \"ByteDance/AnimateDiff-Lightning\"\n",
    "ckpt = f\"animatediff_lightning_{step}step_diffusers.safetensors\"\n",
    "base = \"emilianJR/epiCRealism\"\n",
    "\n",
    "adapter = MotionAdapter().to(device, dtype)\n",
    "adapter.load_state_dict(load_file(hf_hub_download(repo ,ckpt), device=device))\n",
    "pipe = AnimateDiffPipeline.from_pretrained(base, motion_adapter=adapter, torch_dtype=dtype).to(device)\n",
    "pipe.scheduler = EulerDiscreteScheduler.from_config(pipe.scheduler.config, timestep_spacing=\"trailing\", beta_schedule=\"linear\")\n",
    "\n",
    "output = pipe(prompt=prompt, guidance_scale=1.0, num_inference_steps=step, width=768, height=480, num_frames=160)\n",
    "export_to_gif(output.frames[0], \"trump.gif\", fps=24)"
   ],
   "outputs": [
    {
     "name": "stderr",
     "output_type": "stream",
     "text": [
      "C:\\Users\\lapte\\miniconda3\\envs\\torch\\lib\\site-packages\\tqdm\\auto.py:21: TqdmWarning: IProgress not found. Please update jupyter and ipywidgets. See https://ipywidgets.readthedocs.io/en/stable/user_install.html\n",
      "  from .autonotebook import tqdm as notebook_tqdm\n",
      "Loading pipeline components...:   0%|          | 0/6 [00:00<?, ?it/s]C:\\Users\\lapte\\miniconda3\\envs\\torch\\lib\\site-packages\\transformers\\models\\clip\\feature_extraction_clip.py:28: FutureWarning: The class CLIPFeatureExtractor is deprecated and will be removed in version 5 of Transformers. Please use CLIPImageProcessor instead.\n",
      "  warnings.warn(\n",
      "Loading pipeline components...: 100%|██████████| 6/6 [00:02<00:00,  2.96it/s]\n",
      "100%|██████████| 8/8 [00:04<00:00,  1.67it/s]\n"
     ]
    },
    {
     "data": {
      "text/plain": [
       "'trump.gif'"
      ]
     },
     "execution_count": 1,
     "metadata": {},
     "output_type": "execute_result"
    }
   ],
   "execution_count": 1
  },
  {
   "metadata": {
    "ExecuteTime": {
     "end_time": "2025-04-11T18:28:39.954919Z",
     "start_time": "2025-04-11T18:28:14.620759Z"
    }
   },
   "cell_type": "code",
   "source": [
    "prompt = \"A young woman walks through a lively street market, surrounded by the hum of conversation and the clatter of vendors’ stalls. The camera follows her from a handheld medium shot, capturing the gentle sway of her movement as she weaves between crowds. Sunlight filters through vibrant umbrellas and patchwork tents above, casting shifting patterns of light and shadow on the pavement. The atmosphere feels warm and authentic, rich with the colors and textures of everyday life.\"\n",
    "\n",
    "output = pipe(prompt=prompt, guidance_scale=1.0, num_inference_steps=step, width=768, height=480, num_frames=160)\n",
    "export_to_gif(output.frames[0], \"market.gif\", fps=24)\n"
   ],
   "id": "35d304afd917b460",
   "outputs": [
    {
     "name": "stderr",
     "output_type": "stream",
     "text": [
      "Token indices sequence length is longer than the specified maximum sequence length for this model (91 > 77). Running this sequence through the model will result in indexing errors\n",
      "The following part of your input was truncated because CLIP can only handle sequences up to 77 tokens: ['warm and authentic, rich with the colors and textures of everyday life.']\n",
      "100%|██████████| 8/8 [00:04<00:00,  1.61it/s]\n"
     ]
    },
    {
     "data": {
      "text/plain": [
       "'market.gif'"
      ]
     },
     "execution_count": 2,
     "metadata": {},
     "output_type": "execute_result"
    }
   ],
   "execution_count": 2
  },
  {
   "metadata": {
    "jupyter": {
     "is_executing": true
    },
    "ExecuteTime": {
     "end_time": "2025-04-11T18:29:06.630210900Z",
     "start_time": "2025-04-11T18:28:40.128241Z"
    }
   },
   "cell_type": "code",
   "source": [
    "prompt = \"A clear, turquoise river flows through a rocky canyon, cascading over a small waterfall and forming a pool of water at the bottom.The river is the main focus of the scene, with its clear water reflecting the surrounding trees and rocks. The canyon walls are steep and rocky, with some vegetation growing on them. The trees are mostly pine trees, with their green needles contrasting with the brown and gray rocks. The overall tone of the scene is one of peace and tranquility.\"\n",
    "\n",
    "output = pipe(prompt=prompt, guidance_scale=1.0, num_inference_steps=step, width=768, height=480)\n",
    "export_to_gif(output.frames[0], \"landscape.gif\", fps=24)\n",
    "\n",
    "current_pid = os.getpid()\n",
    "for proc in psutil.process_iter(attrs=['pid', 'name']):\n",
    "    try:\n",
    "        if \"python\" in proc.info['name'].lower() and proc.info['pid'] != current_pid:\n",
    "            os.kill(proc.info['pid'], 9)\n",
    "    except (psutil.NoSuchProcess, psutil.AccessDenied):\n",
    "        continue"
   ],
   "id": "5f01fb01cab7f83",
   "outputs": [
    {
     "name": "stderr",
     "output_type": "stream",
     "text": [
      "The following part of your input was truncated because CLIP can only handle sequences up to 77 tokens: ['contrasting with the brown and gray rocks. the overall tone of the scene is one of peace and tranquility.']\n",
      "100%|██████████| 8/8 [00:05<00:00,  1.59it/s]\n"
     ]
    }
   ],
   "execution_count": null
  }
 ],
 "metadata": {
  "kernelspec": {
   "display_name": "Python 3",
   "language": "python",
   "name": "python3"
  },
  "language_info": {
   "codemirror_mode": {
    "name": "ipython",
    "version": 2
   },
   "file_extension": ".py",
   "mimetype": "text/x-python",
   "name": "python",
   "nbconvert_exporter": "python",
   "pygments_lexer": "ipython2",
   "version": "2.7.6"
  }
 },
 "nbformat": 4,
 "nbformat_minor": 5
}
