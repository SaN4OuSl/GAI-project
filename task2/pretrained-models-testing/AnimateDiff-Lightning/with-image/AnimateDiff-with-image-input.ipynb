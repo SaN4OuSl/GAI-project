{
 "cells": [
  {
   "cell_type": "code",
   "id": "initial_id",
   "metadata": {
    "collapsed": true,
    "jupyter": {
     "is_executing": true
    },
    "ExecuteTime": {
     "end_time": "2025-04-11T18:54:29.777243Z",
     "start_time": "2025-04-11T18:53:34.708079Z"
    }
   },
   "source": [
    "import torch\n",
    "import os\n",
    "import psutil\n",
    "from PIL import Image\n",
    "from diffusers import AnimateDiffPipeline, MotionAdapter, EulerDiscreteScheduler\n",
    "from diffusers.utils import export_to_gif\n",
    "from huggingface_hub import hf_hub_download\n",
    "from safetensors.torch import load_file\n",
    "from torchvision import transforms\n",
    "\n",
    "device = \"cuda\"\n",
    "dtype = torch.float16\n",
    "\n",
    "image_path = \"img.png\"\n",
    "image = Image.open(image_path).convert(\"RGB\").resize((768, 480))\n",
    "transform = transforms.Compose([\n",
    "    transforms.ToTensor(),\n",
    "])\n",
    "\n",
    "image_tensor = transform(image).unsqueeze(0).to(device).half()\n",
    "\n",
    "prompt = \"Donald Trump dances on a golf field with fluid, relaxed movements. He shifts his weight from side to side, occasionally lifting his arms in a gentle sway. His steps are light and rhythmic, moving naturally with the beat, his body fluidly rotating as he turns and spins. His movements are confident yet unforced, creating a sense of ease and enjoyment. The camera remains stationary, capturing his smooth dance flow from a medium distance.\"\n",
    "\n",
    "step = 8\n",
    "repo = \"ByteDance/AnimateDiff-Lightning\"\n",
    "ckpt = f\"animatediff_lightning_{step}step_diffusers.safetensors\"\n",
    "base = \"emilianJR/epiCRealism\"\n",
    "\n",
    "adapter = MotionAdapter().to(device, dtype)\n",
    "adapter.load_state_dict(load_file(hf_hub_download(repo, ckpt), device=device))\n",
    "\n",
    "pipe = AnimateDiffPipeline.from_pretrained(base, motion_adapter=adapter, torch_dtype=dtype).to(device)\n",
    "pipe.scheduler = EulerDiscreteScheduler.from_config(pipe.scheduler.config, timestep_spacing=\"trailing\", beta_schedule=\"linear\")\n",
    "\n",
    "output = pipe(prompt=prompt, image=image_path, guidance_scale=1.0, num_inference_steps=step, width=768, height=480)\n",
    "\n",
    "export_to_gif(output.frames[0], \"trump-dancing.gif\")\n",
    "\n",
    "current_pid = os.getpid()\n",
    "for proc in psutil.process_iter(attrs=['pid', 'name']):\n",
    "    try:\n",
    "        if \"python\" in proc.info['name'].lower() and proc.info['pid'] != current_pid:\n",
    "            os.kill(proc.info['pid'], 9)\n",
    "    except (psutil.NoSuchProcess, psutil.AccessDenied):\n",
    "        continue"
   ],
   "outputs": [
    {
     "name": "stderr",
     "output_type": "stream",
     "text": [
      "Loading pipeline components...:   0%|          | 0/6 [00:00<?, ?it/s]C:\\Users\\lapte\\miniconda3\\envs\\torch\\lib\\site-packages\\transformers\\models\\clip\\feature_extraction_clip.py:28: FutureWarning: The class CLIPFeatureExtractor is deprecated and will be removed in version 5 of Transformers. Please use CLIPImageProcessor instead.\n",
      "  warnings.warn(\n",
      "Loading pipeline components...: 100%|██████████| 6/6 [00:01<00:00,  4.83it/s]\n",
      "Token indices sequence length is longer than the specified maximum sequence length for this model (88 > 77). Running this sequence through the model will result in indexing errors\n",
      "The following part of your input was truncated because CLIP can only handle sequences up to 77 tokens: [', capturing his smooth dance flow from a medium distance.']\n",
      "100%|██████████| 8/8 [00:04<00:00,  1.70it/s]\n"
     ]
    }
   ],
   "execution_count": null
  }
 ],
 "metadata": {
  "kernelspec": {
   "display_name": "Python 3",
   "language": "python",
   "name": "python3"
  },
  "language_info": {
   "codemirror_mode": {
    "name": "ipython",
    "version": 2
   },
   "file_extension": ".py",
   "mimetype": "text/x-python",
   "name": "python",
   "nbconvert_exporter": "python",
   "pygments_lexer": "ipython2",
   "version": "2.7.6"
  }
 },
 "nbformat": 4,
 "nbformat_minor": 5
}
