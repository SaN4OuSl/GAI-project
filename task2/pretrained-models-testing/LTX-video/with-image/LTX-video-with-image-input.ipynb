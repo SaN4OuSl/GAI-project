{
 "cells": [
  {
   "cell_type": "code",
   "id": "initial_id",
   "metadata": {
    "collapsed": true,
    "jupyter": {
     "is_executing": true
    },
    "ExecuteTime": {
     "end_time": "2025-04-11T19:00:14.825278500Z",
     "start_time": "2025-04-11T18:57:26.931841Z"
    }
   },
   "source": [
    "import torch\n",
    "import os\n",
    "import psutil\n",
    "from diffusers import LTXImageToVideoPipeline\n",
    "from diffusers.utils import export_to_gif, load_image\n",
    "\n",
    "pipe = LTXImageToVideoPipeline.from_pretrained(\"Lightricks/LTX-Video\", torch_dtype=torch.bfloat16)\n",
    "pipe.to(\"cuda\")\n",
    "image_path = load_image(\"img.png\")\n",
    "\n",
    "prompt = \"Donald Trump dances on a golf field with fluid, relaxed movements. He shifts his weight from side to side, occasionally lifting his arms in a gentle sway. His steps are light and rhythmic, moving naturally with the beat, his body fluidly rotating as he turns and spins. His movements are confident yet unforced, creating a sense of ease and enjoyment. The camera remains stationary, capturing his smooth dance flow from a medium distance.\"\n",
    "negative_prompt = \"worst quality, inconsistent motion, blurry, jittery, distorted\"\n",
    "\n",
    "with torch.no_grad():\n",
    "    video = pipe(\n",
    "        image=image_path,\n",
    "        prompt=prompt,\n",
    "        negative_prompt=negative_prompt,\n",
    "        width=768,\n",
    "        height=480,\n",
    "        num_frames=144,\n",
    "        num_inference_steps=50,\n",
    "    ).frames[0]\n",
    "\n",
    "export_to_gif(video, \"trump-dancing.gif\", fps=24)\n",
    "\n",
    "current_pid = os.getpid()\n",
    "for proc in psutil.process_iter(attrs=['pid', 'name']):\n",
    "    try:\n",
    "        if \"python\" in proc.info['name'].lower() and proc.info['pid'] != current_pid:\n",
    "            os.kill(proc.info['pid'], 9)\n",
    "    except (psutil.NoSuchProcess, psutil.AccessDenied):\n",
    "        continue"
   ],
   "outputs": [
    {
     "name": "stderr",
     "output_type": "stream",
     "text": [
      "C:\\Users\\lapte\\miniconda3\\envs\\torch\\lib\\site-packages\\tqdm\\auto.py:21: TqdmWarning: IProgress not found. Please update jupyter and ipywidgets. See https://ipywidgets.readthedocs.io/en/stable/user_install.html\n",
      "  from .autonotebook import tqdm as notebook_tqdm\n",
      "Loading pipeline components...:  20%|██        | 1/5 [00:00<00:00,  5.60it/s]\n",
      "Loading checkpoint shards:   0%|          | 0/4 [00:00<?, ?it/s]\u001B[A\n",
      "Loading checkpoint shards:  25%|██▌       | 1/4 [00:03<00:11,  3.93s/it]\u001B[A\n",
      "Loading checkpoint shards:  50%|█████     | 2/4 [00:09<00:09,  4.76s/it]\u001B[A\n",
      "Loading checkpoint shards:  75%|███████▌  | 3/4 [00:13<00:04,  4.57s/it]\u001B[A\n",
      "Loading checkpoint shards: 100%|██████████| 4/4 [00:16<00:00,  4.10s/it]\u001B[A\n",
      "Loading pipeline components...: 100%|██████████| 5/5 [00:29<00:00,  5.81s/it]\n",
      "100%|██████████| 50/50 [01:08<00:00,  1.37s/it]\n"
     ]
    }
   ],
   "execution_count": null
  }
 ],
 "metadata": {
  "kernelspec": {
   "display_name": "Python 3",
   "language": "python",
   "name": "python3"
  },
  "language_info": {
   "codemirror_mode": {
    "name": "ipython",
    "version": 2
   },
   "file_extension": ".py",
   "mimetype": "text/x-python",
   "name": "python",
   "nbconvert_exporter": "python",
   "pygments_lexer": "ipython2",
   "version": "2.7.6"
  }
 },
 "nbformat": 4,
 "nbformat_minor": 5
}
