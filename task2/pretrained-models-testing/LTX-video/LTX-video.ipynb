{
 "cells": [
  {
   "cell_type": "code",
   "id": "initial_id",
   "metadata": {
    "collapsed": true,
    "ExecuteTime": {
     "end_time": "2025-04-11T17:57:44.060007Z",
     "start_time": "2025-04-11T17:54:53.377659Z"
    }
   },
   "source": [
    "import torch\n",
    "import os\n",
    "import psutil\n",
    "from diffusers import LTXPipeline\n",
    "from diffusers.utils import export_to_gif\n",
    "\n",
    "pipe = LTXPipeline.from_pretrained(\"Lightricks/LTX-Video\", torch_dtype=torch.bfloat16)\n",
    "pipe.to(\"cuda\")\n",
    "\n",
    "prompt = \"Donald Trump stands at the podium and talks a lot.The camera remains stationary, focused on the man. The lighting is warm and natural. The scene appears to be real-life footage.\"\n",
    "negative_prompt = \"worst quality, inconsistent motion, blurry, jittery, distorted\"\n",
    "\n",
    "with torch.no_grad():\n",
    "    video = pipe(\n",
    "        prompt=prompt,\n",
    "        negative_prompt=negative_prompt,\n",
    "        width=768,\n",
    "        height=480,\n",
    "        num_frames=144,\n",
    "        num_inference_steps=50,\n",
    "    ).frames[0]\n",
    "\n",
    "export_to_gif(video, \"trump.gif\", fps=24)"
   ],
   "outputs": [
    {
     "name": "stderr",
     "output_type": "stream",
     "text": [
      "C:\\Users\\lapte\\miniconda3\\envs\\torch\\lib\\site-packages\\tqdm\\auto.py:21: TqdmWarning: IProgress not found. Please update jupyter and ipywidgets. See https://ipywidgets.readthedocs.io/en/stable/user_install.html\n",
      "  from .autonotebook import tqdm as notebook_tqdm\n",
      "Loading pipeline components...:   0%|          | 0/5 [00:00<?, ?it/s]\n",
      "Loading checkpoint shards:   0%|          | 0/4 [00:00<?, ?it/s]\u001B[A\n",
      "Loading checkpoint shards:  25%|██▌       | 1/4 [00:04<00:14,  4.82s/it]\u001B[A\n",
      "Loading checkpoint shards:  50%|█████     | 2/4 [00:06<00:06,  3.05s/it]\u001B[A\n",
      "Loading checkpoint shards:  75%|███████▌  | 3/4 [00:09<00:03,  3.14s/it]\u001B[A\n",
      "Loading checkpoint shards: 100%|██████████| 4/4 [00:12<00:00,  3.23s/it]\u001B[A\n",
      "Loading pipeline components...: 100%|██████████| 5/5 [00:24<00:00,  4.95s/it]\n",
      "100%|██████████| 50/50 [01:05<00:00,  1.32s/it]\n"
     ]
    },
    {
     "data": {
      "text/plain": [
       "'trump.gif'"
      ]
     },
     "execution_count": 1,
     "metadata": {},
     "output_type": "execute_result"
    }
   ],
   "execution_count": 1
  },
  {
   "metadata": {
    "ExecuteTime": {
     "end_time": "2025-04-11T18:00:56.310805Z",
     "start_time": "2025-04-11T17:57:44.291512Z"
    }
   },
   "cell_type": "code",
   "source": [
    "import torch\n",
    "from diffusers.utils import export_to_video\n",
    "\n",
    "prompt = \"A young woman walks through a lively street market, surrounded by the hum of conversation and the clatter of vendors’ stalls. The camera follows her from a handheld medium shot, capturing the gentle sway of her movement as she weaves between crowds. Sunlight filters through vibrant umbrellas and patchwork tents above, casting shifting patterns of light and shadow on the pavement. The atmosphere feels warm and authentic, rich with the colors and textures of everyday life.\"\n",
    "\n",
    "with torch.no_grad():\n",
    "    video = pipe(\n",
    "        prompt=prompt,\n",
    "        negative_prompt=negative_prompt,\n",
    "        width=768,\n",
    "        height=480,\n",
    "        num_frames=144,\n",
    "        num_inference_steps=50,\n",
    "    ).frames[0]\n",
    "\n",
    "export_to_gif(video, \"market.gif\", fps=24)"
   ],
   "id": "35c7b421ee74b3f5",
   "outputs": [
    {
     "name": "stderr",
     "output_type": "stream",
     "text": [
      "100%|██████████| 50/50 [02:03<00:00,  2.48s/it]\n"
     ]
    },
    {
     "data": {
      "text/plain": [
       "'market.gif'"
      ]
     },
     "execution_count": 2,
     "metadata": {},
     "output_type": "execute_result"
    }
   ],
   "execution_count": 2
  },
  {
   "metadata": {
    "jupyter": {
     "is_executing": true
    },
    "ExecuteTime": {
     "end_time": "2025-04-11T18:02:57.273928400Z",
     "start_time": "2025-04-11T18:00:56.341478Z"
    }
   },
   "cell_type": "code",
   "source": [
    "prompt = \"A clear, turquoise river flows through a rocky canyon, cascading over a small waterfall and forming a pool of water at the bottom.The river is the main focus of the scene, with its clear water reflecting the surrounding trees and rocks. The canyon walls are steep and rocky, with some vegetation growing on them. The trees are mostly pine trees, with their green needles contrasting with the brown and gray rocks. The overall tone of the scene is one of peace and tranquility.\"\n",
    "\n",
    "with torch.no_grad():\n",
    "    video = pipe(\n",
    "        prompt=prompt,\n",
    "        negative_prompt=negative_prompt,\n",
    "        width=768,\n",
    "        height=480,\n",
    "        num_frames=144,\n",
    "        num_inference_steps=50,\n",
    "    ).frames[0]\n",
    "\n",
    "export_to_gif(video, \"landscape.gif\", fps=24)\n",
    "\n",
    "current_pid = os.getpid()\n",
    "for proc in psutil.process_iter(attrs=['pid', 'name']):\n",
    "    try:\n",
    "        if \"python\" in proc.info['name'].lower() and proc.info['pid'] != current_pid:\n",
    "            os.kill(proc.info['pid'], 9)\n",
    "    except (psutil.NoSuchProcess, psutil.AccessDenied):\n",
    "        continue"
   ],
   "id": "1342aaba3bca3a1f",
   "outputs": [
    {
     "name": "stderr",
     "output_type": "stream",
     "text": [
      "100%|██████████| 50/50 [01:08<00:00,  1.36s/it]\n"
     ]
    }
   ],
   "execution_count": null
  }
 ],
 "metadata": {
  "kernelspec": {
   "display_name": "Python 3",
   "language": "python",
   "name": "python3"
  },
  "language_info": {
   "codemirror_mode": {
    "name": "ipython",
    "version": 2
   },
   "file_extension": ".py",
   "mimetype": "text/x-python",
   "name": "python",
   "nbconvert_exporter": "python",
   "pygments_lexer": "ipython2",
   "version": "2.7.6"
  }
 },
 "nbformat": 4,
 "nbformat_minor": 5
}
