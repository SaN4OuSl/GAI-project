{
 "cells": [
  {
   "cell_type": "code",
   "id": "initial_id",
   "metadata": {
    "collapsed": true,
    "ExecuteTime": {
     "end_time": "2025-04-03T07:09:13.401372Z",
     "start_time": "2025-04-03T07:06:45.221521Z"
    }
   },
   "source": [
    "import torch\n",
    "import gc\n",
    "from diffusers import LTXPipeline\n",
    "from diffusers.utils import export_to_video\n",
    "\n",
    "pipe = LTXPipeline.from_pretrained(\"Lightricks/LTX-Video\", torch_dtype=torch.bfloat16)\n",
    "pipe.to(\"cuda\")\n",
    "\n",
    "prompt = \"Donald Trump stands at the podium and talks a lot about his new executive orders. The camera angle is a close-up, focused on the man. The lighting is warm and natural. The scene appears to be real-life footage.\"\n",
    "negative_prompt = \"worst quality, inconsistent motion, blurry, jittery, distorted\"\n",
    "\n",
    "with torch.no_grad():\n",
    "    video = pipe(\n",
    "        prompt=prompt,\n",
    "        negative_prompt=negative_prompt,\n",
    "        width=832,\n",
    "        height=480,\n",
    "        num_frames=144,\n",
    "        num_inference_steps=50,\n",
    "    ).frames[0]\n",
    "\n",
    "export_to_video(video, \"output.mp4\", fps=24)"
   ],
   "outputs": [
    {
     "name": "stderr",
     "output_type": "stream",
     "text": [
      "C:\\Users\\lapte\\miniconda3\\envs\\torch\\lib\\site-packages\\tqdm\\auto.py:21: TqdmWarning: IProgress not found. Please update jupyter and ipywidgets. See https://ipywidgets.readthedocs.io/en/stable/user_install.html\n",
      "  from .autonotebook import tqdm as notebook_tqdm\n",
      "Loading pipeline components...:   0%|          | 0/5 [00:00<?, ?it/s]\n",
      "Loading checkpoint shards:   0%|          | 0/4 [00:00<?, ?it/s]\u001B[A\n",
      "Loading checkpoint shards:  25%|██▌       | 1/4 [00:00<00:01,  2.04it/s]\u001B[A\n",
      "Loading checkpoint shards:  50%|█████     | 2/4 [00:00<00:00,  2.13it/s]\u001B[A\n",
      "Loading checkpoint shards:  75%|███████▌  | 3/4 [00:01<00:00,  2.01it/s]\u001B[A\n",
      "Loading checkpoint shards: 100%|██████████| 4/4 [00:02<00:00,  1.61it/s]\u001B[A\n",
      "Loading pipeline components...: 100%|██████████| 5/5 [00:15<00:00,  3.01s/it]\n",
      "100%|██████████| 50/50 [01:10<00:00,  1.42s/it]\n"
     ]
    },
    {
     "data": {
      "text/plain": [
       "'output.mp4'"
      ]
     },
     "execution_count": 1,
     "metadata": {},
     "output_type": "execute_result"
    }
   ],
   "execution_count": 1
  }
 ],
 "metadata": {
  "kernelspec": {
   "display_name": "Python 3",
   "language": "python",
   "name": "python3"
  },
  "language_info": {
   "codemirror_mode": {
    "name": "ipython",
    "version": 2
   },
   "file_extension": ".py",
   "mimetype": "text/x-python",
   "name": "python",
   "nbconvert_exporter": "python",
   "pygments_lexer": "ipython2",
   "version": "2.7.6"
  }
 },
 "nbformat": 4,
 "nbformat_minor": 5
}
